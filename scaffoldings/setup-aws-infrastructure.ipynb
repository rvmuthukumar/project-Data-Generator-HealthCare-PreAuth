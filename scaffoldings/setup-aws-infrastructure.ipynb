{
 "cells": [
  {
   "cell_type": "markdown",
   "metadata": {},
   "source": [
    "### Setup AWS S3 bucket for pdf output"
   ]
  },
  {
   "cell_type": "markdown",
   "metadata": {},
   "source": []
  },
  {
   "cell_type": "code",
   "execution_count": null,
   "metadata": {},
   "outputs": [],
   "source": [
    "# check if the buscket is already there\n",
    "!aws s3 ls"
   ]
  },
  {
   "cell_type": "code",
   "execution_count": 5,
   "metadata": {},
   "outputs": [],
   "source": [
    "data_bucket =\"pre-auth-forms\"\n",
    "my_app = \"pre_auth_forms\""
   ]
  },
  {
   "cell_type": "code",
   "execution_count": 3,
   "metadata": {},
   "outputs": [
    {
     "name": "stdout",
     "output_type": "stream",
     "text": [
      "{\n",
      "    \"Location\": \"/pre-auth-forms\"\n",
      "}\n"
     ]
    }
   ],
   "source": [
    "# Create the bucket\n",
    "\n",
    "!aws s3api create-bucket --bucket {data_bucket}"
   ]
  },
  {
   "cell_type": "markdown",
   "metadata": {},
   "source": [
    "### Setup Config items on Parameter Store"
   ]
  },
  {
   "cell_type": "code",
   "execution_count": 10,
   "metadata": {},
   "outputs": [
    {
     "name": "stdout",
     "output_type": "stream",
     "text": [
      "{\n",
      "    \"Version\": 1,\n",
      "    \"Tier\": \"Standard\"\n",
      "}\n"
     ]
    }
   ],
   "source": [
    "\n",
    "!aws ssm put-parameter --name \"/pre_auth_forms/No_Of_Patients_Range\"  --type \"String\" --value \"5-10\" --overwrite"
   ]
  },
  {
   "cell_type": "code",
   "execution_count": 13,
   "metadata": {},
   "outputs": [
    {
     "name": "stdout",
     "output_type": "stream",
     "text": [
      "{\n",
      "    \"Version\": 1,\n",
      "    \"Tier\": \"Standard\"\n",
      "}\n"
     ]
    }
   ],
   "source": [
    "!aws ssm put-parameter --name \"/pre_auth_forms/Output_S3_Bucket_Name\" --type \"String\" --value \"pre-auth-forms\" --overwrite\n"
   ]
  },
  {
   "cell_type": "code",
   "execution_count": 1,
   "metadata": {},
   "outputs": [
    {
     "name": "stdout",
     "output_type": "stream",
     "text": [
      "{\n",
      "    \"Parameters\": [\n",
      "        {\n",
      "            \"Name\": \"/pre_auth_forms/No_Of_Patients_Range\",\n",
      "            \"Type\": \"String\",\n",
      "            \"Value\": \"5-10\",\n",
      "            \"Version\": 1,\n",
      "            \"LastModifiedDate\": \"2025-02-17T08:39:28.564000-08:00\",\n",
      "            \"ARN\": \"arn:aws:ssm:us-east-1:341224537620:parameter/pre_auth_forms/No_Of_Patients_Range\",\n",
      "            \"DataType\": \"text\"\n",
      "        },\n",
      "        {\n",
      "            \"Name\": \"/pre_auth_forms/Output_S3_Bucket_Name\",\n",
      "            \"Type\": \"String\",\n",
      "            \"Value\": \"pre-auth-forms\",\n",
      "            \"Version\": 1,\n",
      "            \"LastModifiedDate\": \"2025-02-17T09:14:45.947000-08:00\",\n",
      "            \"ARN\": \"arn:aws:ssm:us-east-1:341224537620:parameter/pre_auth_forms/Output_S3_Bucket_Name\",\n",
      "            \"DataType\": \"text\"\n",
      "        }\n",
      "    ]\n",
      "}\n"
     ]
    }
   ],
   "source": [
    "!aws ssm get-parameters-by-path --path \"/pre_auth_forms/\"  --recursive "
   ]
  },
  {
   "cell_type": "code",
   "execution_count": null,
   "metadata": {},
   "outputs": [],
   "source": []
  }
 ],
 "metadata": {
  "kernelspec": {
   "display_name": ".env",
   "language": "python",
   "name": "python3"
  },
  "language_info": {
   "codemirror_mode": {
    "name": "ipython",
    "version": 3
   },
   "file_extension": ".py",
   "mimetype": "text/x-python",
   "name": "python",
   "nbconvert_exporter": "python",
   "pygments_lexer": "ipython3",
   "version": "3.12.4"
  }
 },
 "nbformat": 4,
 "nbformat_minor": 2
}
